{
 "cells": [
  {
   "cell_type": "code",
   "execution_count": 1,
   "id": "3d5b1b37-b38f-4e59-93bb-26e3ce096ba1",
   "metadata": {},
   "outputs": [],
   "source": [
    "# Program to take screenshot\n",
    "\n",
    "import pyscreenshot\n",
    "\n",
    "# To capture the screen\n",
    "image = pyscreenshot.grab()\n",
    "\n",
    "# To display the captured screenshot\n",
    "image.show()\n",
    "\n",
    "# To save the screenshot\n",
    "image.save(\"Reddy.png\")"
   ]
  },
  {
   "cell_type": "code",
   "execution_count": null,
   "id": "947e3894-fa6d-4c31-85fb-d7e36782c3a5",
   "metadata": {},
   "outputs": [],
   "source": []
  },
  {
   "cell_type": "code",
   "execution_count": null,
   "id": "b242e949-ea60-48dd-aa03-08cfedc3703a",
   "metadata": {},
   "outputs": [],
   "source": []
  },
  {
   "cell_type": "code",
   "execution_count": null,
   "id": "6b903d25-f4cf-4134-b3ef-895437446294",
   "metadata": {},
   "outputs": [],
   "source": []
  },
  {
   "cell_type": "code",
   "execution_count": 2,
   "id": "adb472f1-c30b-4212-adb2-a09510b02dd5",
   "metadata": {},
   "outputs": [],
   "source": [
    "# Program for partial screenshot\n",
    "\n",
    "import pyscreenshot\n",
    "\n",
    "# im=pyscreenshot.grab(bbox=(x1,x2,y1,y2))\n",
    "image = pyscreenshot.grab(bbox=(10, 10, 500, 500))\n",
    "\n",
    "# To view the screenshot\n",
    "image.show()\n",
    "\n",
    "# To save the screenshot\n",
    "image.save(\"Ramanji.png\")"
   ]
  },
  {
   "cell_type": "code",
   "execution_count": null,
   "id": "639cfa56-8096-4b9c-aaa5-9b1126b8bab2",
   "metadata": {},
   "outputs": [],
   "source": []
  }
 ],
 "metadata": {
  "kernelspec": {
   "display_name": "Python 3 (ipykernel)",
   "language": "python",
   "name": "python3"
  },
  "language_info": {
   "codemirror_mode": {
    "name": "ipython",
    "version": 3
   },
   "file_extension": ".py",
   "mimetype": "text/x-python",
   "name": "python",
   "nbconvert_exporter": "python",
   "pygments_lexer": "ipython3",
   "version": "3.9.6"
  }
 },
 "nbformat": 4,
 "nbformat_minor": 5
}
