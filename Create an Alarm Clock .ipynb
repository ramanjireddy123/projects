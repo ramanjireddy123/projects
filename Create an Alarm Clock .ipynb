{
 "cells": [
  {
   "cell_type": "code",
   "execution_count": 1,
   "id": "7a67bbca-dd25-47bb-a26a-73054581007f",
   "metadata": {},
   "outputs": [
    {
     "name": "stdout",
     "output_type": "stream",
     "text": [
      "Collecting tk\n",
      "  Downloading tk-0.1.0-py3-none-any.whl (3.9 kB)\n",
      "Installing collected packages: tk\n",
      "Successfully installed tk-0.1.0\n",
      "Note: you may need to restart the kernel to use updated packages.\n"
     ]
    }
   ],
   "source": [
    "pip install tk"
   ]
  },
  {
   "cell_type": "code",
   "execution_count": 1,
   "id": "dea9ac5c-53cd-4bd9-bfa6-24fec12e99be",
   "metadata": {},
   "outputs": [
    {
     "ename": "ModuleNotFoundError",
     "evalue": "No module named 'pygame'",
     "output_type": "error",
     "traceback": [
      "\u001b[1;31m---------------------------------------------------------------------------\u001b[0m",
      "\u001b[1;31mModuleNotFoundError\u001b[0m                       Traceback (most recent call last)",
      "\u001b[1;32m~\\AppData\\Local\\Temp/ipykernel_3200/464471769.py\u001b[0m in \u001b[0;36m<module>\u001b[1;34m\u001b[0m\n\u001b[0;32m      4\u001b[0m \u001b[1;32mimport\u001b[0m \u001b[0mtime\u001b[0m\u001b[1;33m\u001b[0m\u001b[1;33m\u001b[0m\u001b[0m\n\u001b[0;32m      5\u001b[0m \u001b[1;32mimport\u001b[0m \u001b[0mdatetime\u001b[0m\u001b[1;33m\u001b[0m\u001b[1;33m\u001b[0m\u001b[0m\n\u001b[1;32m----> 6\u001b[1;33m \u001b[1;32mfrom\u001b[0m \u001b[0mpygame\u001b[0m \u001b[1;32mimport\u001b[0m \u001b[0mmixer\u001b[0m\u001b[1;33m\u001b[0m\u001b[1;33m\u001b[0m\u001b[0m\n\u001b[0m\u001b[0;32m      7\u001b[0m \u001b[1;33m\u001b[0m\u001b[0m\n\u001b[0;32m      8\u001b[0m \u001b[0mroot\u001b[0m \u001b[1;33m=\u001b[0m \u001b[0mTk\u001b[0m\u001b[1;33m(\u001b[0m\u001b[1;33m)\u001b[0m\u001b[1;33m\u001b[0m\u001b[1;33m\u001b[0m\u001b[0m\n",
      "\u001b[1;31mModuleNotFoundError\u001b[0m: No module named 'pygame'"
     ]
    }
   ],
   "source": [
    "from time import strftime \n",
    "from tkinter import * \n",
    "\n",
    "import time\n",
    "import datetime\n",
    "from pygame import mixer\n",
    " \n",
    "root = Tk() \n",
    "root.title('TechVidvan Alarm-Clock') \n",
    "\n",
    "def setalarm():\n",
    "    alarmtime=f\"{hrs.get()}:{mins.get()}:{secs.get()}\"\n",
    "    print(alarmtime)\n",
    "    if(alarmtime!=\"::\"):\n",
    "        alarmclock(alarmtime) \n",
    "\n",
    "def alarmclock(alarmtime): \n",
    "    while True:\n",
    "        time.sleep(1)\n",
    "        time_now=datetime.datetime.now().strftime(\"%H:%M:%S\")\n",
    "        print(time_now)\n",
    "        if time_now==alarmtime:\n",
    "            Wakeup=Label(root, font = ('arial', 20, 'bold'),\n",
    "            text=\"Wake up!Wake up!Wake up\",bg=\"DodgerBlue2\",fg=\"white\").grid(row=6,columnspan=3)\n",
    "            print(\"wake up!\")\n",
    "            mixer.init()\n",
    "            mixer.music.load(r'C:\\Users\\BOSS\\Desktop\\MyPlaylist\\WakeUP.mp3')\n",
    "            mixer.music.play()\n",
    "            break\n",
    "\n",
    "\n",
    "hrs=StringVar()\n",
    "mins=StringVar()\n",
    "secs=StringVar()\n",
    "\n",
    "greet=Label(root, font = ('arial', 20, 'bold'),\n",
    "text=\"Take a short nap!\").grid(row=1,columnspan=3)\n",
    "\n",
    "hrbtn=Entry(root,textvariable=hrs,width=5,font =('arial', 20, 'bold'))\n",
    "hrbtn.grid(row=2,column=1)\n",
    "\n",
    "minbtn=Entry(root,textvariable=mins,\n",
    "width=5,font = ('arial', 20, 'bold')).grid(row=2,column=2)\n",
    "\n",
    "secbtn=Entry(root,textvariable=secs,\n",
    "width=5,font = ('arial', 20, 'bold')).grid(row=2,column=3)\n",
    "\n",
    "setbtn=Button(root,text=\"set alarm\",command=setalarm,bg=\"DodgerBlue2\",\n",
    "fg=\"white\",font = ('arial', 20, 'bold')).grid(row=4,columnspan=3)\n",
    "\n",
    "timeleft = Label(root,font=('arial', 20, 'bold')) \n",
    "timeleft.grid()\n",
    "  \n",
    "mainloop() "
   ]
  },
  {
   "cell_type": "code",
   "execution_count": null,
   "id": "54d35d34-4649-4dd7-a856-d52051952717",
   "metadata": {},
   "outputs": [],
   "source": []
  }
 ],
 "metadata": {
  "kernelspec": {
   "display_name": "Python 3 (ipykernel)",
   "language": "python",
   "name": "python3"
  },
  "language_info": {
   "codemirror_mode": {
    "name": "ipython",
    "version": 3
   },
   "file_extension": ".py",
   "mimetype": "text/x-python",
   "name": "python",
   "nbconvert_exporter": "python",
   "pygments_lexer": "ipython3",
   "version": "3.9.6"
  }
 },
 "nbformat": 4,
 "nbformat_minor": 5
}
